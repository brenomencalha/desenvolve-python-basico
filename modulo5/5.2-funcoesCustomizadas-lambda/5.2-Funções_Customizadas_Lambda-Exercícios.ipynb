{
 "cells": [
  {
   "cell_type": "markdown",
   "id": "cbdff5a5",
   "metadata": {},
   "source": [
    "# Módulo 5 - Funções\n",
    "\n",
    "## Aulas 5.2 - Funções Customizadas e 5.4 Funções ```lambda```"
   ]
  },
  {
   "cell_type": "markdown",
   "id": "28a3fee2",
   "metadata": {},
   "source": [
    "### Q1.\n",
    "\n",
    "- Sabendo que o código a seguir calcula o fatorial de n, escreva uma função chamada ```fatorial()``` que recebe um inteiro ```n``` como parâmetro e retorna o resultado do fatorial de ```n```. \n",
    "- No programa principal, peça ao usuário o valor de ```n```, chame a sua função e imprima o retorno.\n",
    "\n",
    "```python\n",
    "fat = 1\n",
    "for i in range(1, n+1):\n",
    "    fat *= i \n",
    "```"
   ]
  },
  {
   "cell_type": "code",
   "execution_count": 2,
   "id": "d126b3a5",
   "metadata": {},
   "outputs": [],
   "source": [
    "## Crie aqui a função fatorial()\n",
    "## lembre-se de executar a célula para que \n",
    "## a função passe a existir e possa ser chamada\n",
    "def fatorial (valor):\n",
    "    fat = 1\n",
    "    for i in range(1, valor+1):\n",
    "        fat *= i\n",
    "    return fat"
   ]
  },
  {
   "cell_type": "code",
   "execution_count": 4,
   "id": "6e4fe64e",
   "metadata": {},
   "outputs": [
    {
     "name": "stdin",
     "output_type": "stream",
     "text": [
      "Digite n: 3\n"
     ]
    },
    {
     "name": "stdout",
     "output_type": "stream",
     "text": [
      "3! é 6\n"
     ]
    }
   ],
   "source": [
    "## Escreva aqui o programa principal e execute a célula\n",
    "n = int(input(\"Digite n:\"))\n",
    "exe_fatorial = fatorial (n)\n",
    "print (f\"{n}! é {exe_fatorial}\")"
   ]
  },
  {
   "cell_type": "markdown",
   "id": "c0a1f599",
   "metadata": {},
   "source": [
    "### Q2.\n",
    "\n",
    "- Escreva uma função em Python chamada ```soma_quadrados``` que recebe dois números como parâmetros e retorna a soma dos seus quadrados. \n",
    "- No programa principal solicite ao usuário que insira dois números e utilize a função para exibir a soma dos quadrados."
   ]
  },
  {
   "cell_type": "code",
   "execution_count": 15,
   "id": "6dbddaad",
   "metadata": {},
   "outputs": [],
   "source": [
    "## Crie aqui a função soma_quadrados()\n",
    "\n",
    "def soma_quadrados (a, b):\n",
    "    s_square = a**2 + 2*a*b + b**2\n",
    "    return s_square"
   ]
  },
  {
   "cell_type": "code",
   "execution_count": 16,
   "id": "9175a7da",
   "metadata": {},
   "outputs": [
    {
     "name": "stdin",
     "output_type": "stream",
     "text": [
      "Digite o primeiro número: 3\n",
      "Digite o segundo número: 3\n"
     ]
    },
    {
     "name": "stdout",
     "output_type": "stream",
     "text": [
      "A soma do quadrado dos dois números digitados é 36\n"
     ]
    }
   ],
   "source": [
    "## Escreva aqui o programa principal e execute a célula\n",
    "num1, num2 = int(input(\"Digite o primeiro número:\")), int(input(\"Digite o segundo número:\"))\n",
    "resultado = soma_quadrados (num1, num2)\n",
    "\n",
    "print(f'A soma do quadrado dos dois números digitados é {resultado}')\n"
   ]
  },
  {
   "cell_type": "markdown",
   "id": "6ba34ce0",
   "metadata": {},
   "source": [
    "### Q3.\n",
    "\n",
    "- Crie uma função em Python chamada ```soma_digitos``` que recebe um número inteiro como parâmetro e retorna a soma dos seus dígitos. Por exemplo, para o número 123, a função deve retornar 6, $(1 + 2 + 3)$.\n",
    "    - O desafio aqui é separar os dígitos de um número inteiro usando operações aritméticas <br> <br>\n",
    "\n",
    "- No programa principal solicite ao usuário que insira um número e utilize a função ```soma_digitos``` para calcular e exibir a soma dos seus dígitos."
   ]
  },
  {
   "cell_type": "code",
   "execution_count": 23,
   "id": "34838ebf",
   "metadata": {},
   "outputs": [],
   "source": [
    "## Crie aqui a função soma_digitos()\n",
    "def soma_digitos(n):\n",
    "    soma = 0\n",
    "    while n > 0:\n",
    "        digito = n % 10\n",
    "        soma += digito\n",
    "        n = n // 10\n",
    "    return soma"
   ]
  },
  {
   "cell_type": "code",
   "execution_count": 27,
   "id": "27c35b21",
   "metadata": {},
   "outputs": [
    {
     "name": "stdin",
     "output_type": "stream",
     "text": [
      "Digite um número qualquer: 12312\n"
     ]
    },
    {
     "name": "stdout",
     "output_type": "stream",
     "text": [
      "A soma dos dígitos é 9\n"
     ]
    }
   ],
   "source": [
    "## Escreva aqui o programa principal e execute a célula\n",
    "num = int(input(\"Digite um número qualquer:\"))\n",
    "result = soma_digitos (num)\n",
    "\n",
    "print (f\"A soma dos dígitos é {result}\")"
   ]
  },
  {
   "cell_type": "markdown",
   "id": "c318b159",
   "metadata": {},
   "source": [
    "### Q4.\n",
    "\n",
    "- Crie a função ```inverteValor()``` que recebe um inteiro de qualquer tamanho e retorna esse valor invertido usando apenas operações aritméticas\n",
    "- Crie a função ```verificaInverso()``` que recebe o valor original e o valor invertido e retorna verdadeiro se ambos forem igualmente par ou igualmente ímpar. Retorne falso caso contrário.\n",
    "- No programa principal, peça um valor do usuário e imprima o retorno de ambas as funções.\n"
   ]
  },
  {
   "cell_type": "code",
   "execution_count": 8,
   "id": "e4e47d1d",
   "metadata": {},
   "outputs": [],
   "source": [
    "## Crie aqui as funções inverteValor() e verificaInverso()\n",
    "def inverte_valor (valor):\n",
    "    invertido = 0\n",
    "    while valor != 0:\n",
    "        ultimo_digito = valor % 10\n",
    "        invertido = invertido * 10 + ultimo_digito\n",
    "        valor = valor // 10\n",
    "    return invertido\n",
    "\n",
    "def verifica_inverso (original, invertido):\n",
    "    return (original % 2 == invertido % 2)\n"
   ]
  },
  {
   "cell_type": "code",
   "execution_count": 13,
   "id": "a9514e56",
   "metadata": {},
   "outputs": [
    {
     "name": "stdin",
     "output_type": "stream",
     "text": [
      "Digite um número inteiro: 5432\n"
     ]
    },
    {
     "name": "stdout",
     "output_type": "stream",
     "text": [
      "O valor 5432 invertido é 2345.\n",
      "O valor original e o valor inverso possuem paridades diferentes (um é par e o outro é ímpar).\n"
     ]
    }
   ],
   "source": [
    "## Escreva aqui o programa principal e execute a célula\n",
    "valor = int(input(\"Digite um número inteiro:\"))\n",
    "\n",
    "valor_invertido = inverte_valor (valor)\n",
    "print(f\"O valor {valor} invertido é {valor_invertido}.\")\n",
    "\n",
    "igual_paridade = verifica_inverso (valor, valor_invertido)\n",
    "\n",
    "if igual_paridade:\n",
    "    print (\"O valor original e o valor inverso possuem a mesma paridade (ambos são pares ou ambos são ímpares).\")\n",
    "else:\n",
    "    print (\"O valor original e o valor inverso possuem paridades diferentes (um é par e o outro é ímpar).\")\n",
    "\n"
   ]
  },
  {
   "cell_type": "markdown",
   "id": "329be966",
   "metadata": {},
   "source": [
    "### Q5.\n",
    "\n",
    "Você está desenvolvendo um programa para auxiliar em cálculos de geometria básica. Crie as seguintes funções:\n",
    "- A função ```calcula_perimetro_triangulo()``` que recebe três inteiros correspondentes aos lados de um triângulo e retorna o perímetro do triângulo, ou seja, a soma dos seus lados.\n",
    "- A função ```calcula_perimetro_circulo()``` que recebe um inteiro referente ao raio do círculo e retorna o perímetro do círculo, dado por $2 \\pi r$. Use a constante $\\pi$ da biblioteca ```math```.\n",
    "- A função ```calcula_perimetro_retangulo()``` que possui um parâmetro obrigatório ```lado1``` e um opcional ```lado2```, ambos inteiros. Se o valor opcional não for fornecido, significa que se trata de um quadrado. Sua função deve calcular e retornar o perímetro do retângulo, ou seja, a soma de seus lados. \n",
    "    - Para o quadrado, é dado por $4 \\times lado1$\n",
    "    - Para o retângulo é dado por $2 \\times lado1 + 2 \\times lado2$\n",
    "    \n",
    "- No programa principal apresente um menu com as opções disponíveis do seu sistema e uma quarta opção ```Sair```. Solicite ao usuário a opção desejada, solicite as entradas correspondentes à opção escolhida, invoque a respective função e apresente o seu retorno. Seu programa deve retornar ao menu até que o usuário escolha a opção ```Sair```\n",
    "\n",
    "Exemplo de interação:\n",
    "```\n",
    "1 - Calcular perímetro triângulo\n",
    "2 - Calcular perímetro círculo\n",
    "3 - Calcular perímetro retângulo\n",
    "4 - Sair\n",
    "\n",
    "Opção: 1\n",
    "Digite os três lados do triângulo:\n",
    "3\n",
    "4\n",
    "5\n",
    "O perímetro é: 12\n",
    "\n",
    "1 - Calcular perímetro triângulo\n",
    "2 - Calcular perímetro círculo\n",
    "3 - Calcular perímetro retângulo\n",
    "4 - Sair\n",
    "\n",
    "Opção: 3\n",
    "Informe os dois lados do retângulo. Se for um quadrado, digite 0 para o segundo valor:\n",
    "5\n",
    "0\n",
    "O perímetro é: 20\n",
    "\n",
    "1 - Calcular perímetro triângulo\n",
    "2 - Calcular perímetro círculo\n",
    "3 - Calcular perímetro retângulo\n",
    "4 - Sair\n",
    "\n",
    "Opção: 4\n",
    "```"
   ]
  },
  {
   "cell_type": "code",
   "execution_count": 26,
   "id": "0793d328",
   "metadata": {},
   "outputs": [],
   "source": [
    "## Crie aqui as funções \n",
    "import math\n",
    "\n",
    "def calcula_perimetro_triangulo (l1, l2, l3):\n",
    "    perimetro_triangulo = l1 + l2 + l3\n",
    "    return perimetro_triangulo\n",
    "\n",
    "def calcula_perimetro_circulo (raio):\n",
    "    circunfer = 2 * math.pi * raio\n",
    "    return circunfer\n",
    "\n",
    "def calcula_perimetro_retangulo (l1, l2):\n",
    "    if l2 == 0:\n",
    "        square = 4 * l1\n",
    "    else:\n",
    "        rectangle = 2 * l1 + 2 * l2\n",
    "    return square if l2 == 0  else rectangle\n"
   ]
  },
  {
   "cell_type": "code",
   "execution_count": 55,
   "id": "36269c71",
   "metadata": {},
   "outputs": [
    {
     "name": "stdout",
     "output_type": "stream",
     "text": [
      "1 - Calcular perímetro do triângulo.\n",
      "2 - Calcular perímetro círculo.\n",
      "3 - Calcular perímetro retângulo.\n",
      "4 - Sair.\n"
     ]
    },
    {
     "name": "stdin",
     "output_type": "stream",
     "text": [
      "Opção: 1\n"
     ]
    },
    {
     "name": "stdout",
     "output_type": "stream",
     "text": [
      "Digite os três lados do triângulo: \n"
     ]
    },
    {
     "name": "stdin",
     "output_type": "stream",
     "text": [
      " 3\n",
      " 4\n",
      " 5\n"
     ]
    },
    {
     "name": "stdout",
     "output_type": "stream",
     "text": [
      "O perímetro do triângulo é 12.\n"
     ]
    },
    {
     "name": "stdin",
     "output_type": "stream",
     "text": [
      "Digite outra opção: 3\n"
     ]
    },
    {
     "name": "stdout",
     "output_type": "stream",
     "text": [
      "Digite os valores dos dois lados do retângulo. Se for um quadrado, digite 0 para o segundo valor: \n"
     ]
    },
    {
     "name": "stdin",
     "output_type": "stream",
     "text": [
      " 5\n",
      " 0\n"
     ]
    },
    {
     "name": "stdout",
     "output_type": "stream",
     "text": [
      "O perímetro do quadrado é 20.\n"
     ]
    },
    {
     "name": "stdin",
     "output_type": "stream",
     "text": [
      "Digite outra opção: 4\n"
     ]
    }
   ],
   "source": [
    "## Escreva aqui o programa principal\n",
    "#Menu:\n",
    "print(\"1 - Calcular perímetro do triângulo.\")\n",
    "print(\"2 - Calcular perímetro círculo.\")\n",
    "print(\"3 - Calcular perímetro retângulo.\")\n",
    "print(\"4 - Sair.\")\n",
    "\n",
    "opcao = int(input(\"Opção:\"))\n",
    "\n",
    "while opcao != 4:\n",
    "    \n",
    "#Teste saída:\n",
    "    if opcao == 4:\n",
    "        break\n",
    "              \n",
    "    elif opcao == 1:\n",
    "#perímetro do triângulo:\n",
    "        print(\"Digite os três lados do triângulo: \")\n",
    "        l1, l2, l3 = float(input()), float(input()), float(input())\n",
    "        \n",
    "#chama a função \"def calcula_perimetro_retangulo\":\n",
    "        calc_triangulo = calcula_perimetro_triangulo (l1, l2, l3)\n",
    "        print(f\"O perímetro do triângulo é {calc_triangulo:.0f}.\")\n",
    "\n",
    "    elif opcao == 2:\n",
    "#perímetro do círculo:\n",
    "        raio = float(input(\"Digite o raio do círculo: \"))\n",
    "        \n",
    "#chama a função \"def calcula_perimetro_circulo\":\n",
    "        perimetro_circulo = calcula_perimetro_circulo (raio)\n",
    "        print (f\"A circunferência do círculo de raio {raio} é {perimetro_circulo:.2f}.\")\n",
    "\n",
    "    elif opcao == 3:\n",
    "#perimetro do retângulo:  \n",
    "        print (\"Digite os valores dos dois lados do retângulo. Se for um quadrado, digite 0 para o segundo valor: \")\n",
    "        l1, l2 = float(input()), float(input())\n",
    "        \n",
    "#chama a função \"def calcula_perimetro_retangulo\":\n",
    "        calc_rectangle_or_square = calcula_perimetro_retangulo (l1, l2)\n",
    "        if l2 == 0:\n",
    "            print(f\"O perímetro do quadrado é {calc_rectangle_or_square:.0f}.\")\n",
    "        else:\n",
    "            print(f\"O perímetro do retângulo é {calc_rectangle_or_square:.0f}.\")\n",
    "\n",
    "    else:\n",
    "        print(\"Opção inválida! Tente novamente.\")\n",
    "        \n",
    "    opcao = int(input(\"Digite outra opção:\"))\n"
   ]
  },
  {
   "cell_type": "markdown",
   "id": "3016bcc7",
   "metadata": {},
   "source": [
    "## Funções ```lambda```"
   ]
  },
  {
   "cell_type": "markdown",
   "id": "f9cdb8dd",
   "metadata": {},
   "source": [
    "### Q6.\n",
    "\n",
    "Crie uma função lambda para verificar se um número é par ou ímpar. Em seguida, solicite ao usuário um número indefinidos de valores (até que o usuário digite 0). Para cada valor de entrada, informe se é par ou ímpar.\n",
    "\n",
    "Exemplo de interação:\n",
    "```\n",
    "Digite os valores que deseja verificar a paridade (digite 0 para finalizar a entrada de dados):\n",
    "3\n",
    "ímpar\n",
    "8\n",
    "par\n",
    "12\n",
    "par\n",
    "5\n",
    "ímpar\n",
    "7ímpar\n",
    "```"
   ]
  },
  {
   "cell_type": "code",
   "execution_count": 63,
   "id": "e3c31a78",
   "metadata": {},
   "outputs": [
    {
     "name": "stdin",
     "output_type": "stream",
     "text": [
      "Digite os valores que deseja verificar a paridade (digite 0 para sair): 3\n"
     ]
    },
    {
     "name": "stdout",
     "output_type": "stream",
     "text": [
      " O número 3 é Ímpar\n"
     ]
    },
    {
     "name": "stdin",
     "output_type": "stream",
     "text": [
      "Digite os valores que deseja verificar a paridade (digite 0 para sair): 8\n"
     ]
    },
    {
     "name": "stdout",
     "output_type": "stream",
     "text": [
      " O número 8 é Par\n"
     ]
    },
    {
     "name": "stdin",
     "output_type": "stream",
     "text": [
      "Digite os valores que deseja verificar a paridade (digite 0 para sair): 12\n"
     ]
    },
    {
     "name": "stdout",
     "output_type": "stream",
     "text": [
      " O número 12 é Par\n"
     ]
    },
    {
     "name": "stdin",
     "output_type": "stream",
     "text": [
      "Digite os valores que deseja verificar a paridade (digite 0 para sair): 5\n"
     ]
    },
    {
     "name": "stdout",
     "output_type": "stream",
     "text": [
      " O número 5 é Ímpar\n"
     ]
    },
    {
     "name": "stdin",
     "output_type": "stream",
     "text": [
      "Digite os valores que deseja verificar a paridade (digite 0 para sair): 7\n"
     ]
    },
    {
     "name": "stdout",
     "output_type": "stream",
     "text": [
      " O número 7 é Ímpar\n"
     ]
    },
    {
     "name": "stdin",
     "output_type": "stream",
     "text": [
      "Digite os valores que deseja verificar a paridade (digite 0 para sair): 0\n"
     ]
    }
   ],
   "source": [
    "par_ou_impar = lambda x: \"Par\" if x % 2 == 0 else \"Ímpar\"\n",
    "\n",
    "def main ():\n",
    "    while True:\n",
    "        try:\n",
    "            #usuário informa um número inteiro\n",
    "            valor = int(input(\"Digite os valores que deseja verificar a paridade (digite 0 para sair):\"))\n",
    "\n",
    "            # teste saída\n",
    "            if valor == 0:\n",
    "                break\n",
    "\n",
    "            # verificando se o valor é par ou ímpar com a função lambda:\n",
    "            resultado = par_ou_impar (valor)\n",
    "            print (f\" O número {valor} é {resultado}\")\n",
    "\n",
    "        except ValueError:\n",
    "            print (\"Digite um número válido (entrada tem que ser um número inteiro):\")\n",
    "\n",
    "if __name__ == \"__main__\":\n",
    "    main()"
   ]
  },
  {
   "cell_type": "markdown",
   "id": "5a87474d",
   "metadata": {},
   "source": [
    "### Q7.\n",
    "\n",
    "Escreva um programa que pergunte ao usuário qual operação ele deseja: maior ou menor.\n",
    "Em seguida leia uma quantidade indefinida de valores do usuário, até que o usuário digite o valor zero.\n",
    "Apresente ao final o maior ou menor dos valores digitados de acordo com a escolha do usuário.\n",
    "\n",
    "**Sua solução deve incluir pelo menos uma função ```lambda```** \n",
    "\n",
    "Exemplo de interação:\n",
    "```\n",
    "Opções: (1) maior ou (2) menor?\n",
    "Opção: 1\n",
    "\n",
    "Digite os valores de entrada. Digite 0 para finalizar a entrada de valores.\n",
    "4\n",
    "12\n",
    "15\n",
    "1\n",
    "0\n",
    "\n",
    "O maior valor é: 15\n",
    "```"
   ]
  },
  {
   "cell_type": "code",
   "execution_count": 71,
   "id": "ee3f68ca",
   "metadata": {},
   "outputs": [
    {
     "name": "stdin",
     "output_type": "stream",
     "text": [
      "Opções (1) maior ou (2) menor? 1\n",
      " 4\n",
      " 12\n",
      " 15\n",
      " 1\n",
      " 0\n"
     ]
    },
    {
     "name": "stdout",
     "output_type": "stream",
     "text": [
      "O maior valor é: 15\n"
     ]
    }
   ],
   "source": [
    "## Escreva aqui o programa principal \n",
    "op = int(input(\"Opções (1) maior ou (2) menor?\"))\n",
    "\n",
    "if op == 1:\n",
    "    result = float(\"-inf\")\n",
    "    op_function = lambda a,b: a > b\n",
    "else:\n",
    "    result = float (\"inf\")\n",
    "    op_function = lambda a,b: a < b\n",
    "\n",
    "while True:\n",
    "    x = int(input())\n",
    "    if x == 0:\n",
    "        break\n",
    "    if op_function (x, result):\n",
    "        result = x\n",
    "\n",
    "if op == 1:\n",
    "    print (f\"O maior valor é: {result}\")\n",
    "else:\n",
    "    print (f\"O menor valor é: {result}\")\n",
    "    "
   ]
  }
 ],
 "metadata": {
  "kernelspec": {
   "display_name": "Python 3 (ipykernel)",
   "language": "python",
   "name": "python3"
  },
  "language_info": {
   "codemirror_mode": {
    "name": "ipython",
    "version": 3
   },
   "file_extension": ".py",
   "mimetype": "text/x-python",
   "name": "python",
   "nbconvert_exporter": "python",
   "pygments_lexer": "ipython3",
   "version": "3.12.1"
  }
 },
 "nbformat": 4,
 "nbformat_minor": 5
}
