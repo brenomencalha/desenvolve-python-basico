{
 "cells": [
  {
   "cell_type": "markdown",
   "id": "29e89030",
   "metadata": {},
   "source": [
    "# Módulo 4 - Repetições\n",
    "\n",
    "## Aulas 4.2 - Comando ```for``` e 4.3 Break e Continue"
   ]
  },
  {
   "cell_type": "markdown",
   "id": "a45b42df",
   "metadata": {},
   "source": [
    "### Q1.\n",
    "\n",
    "Crie um programa em Python que utilize o comando for para imprimir os números de 10 a 1, em ordem decrescente."
   ]
  },
  {
   "cell_type": "code",
   "execution_count": 7,
   "id": "55a75b3d",
   "metadata": {},
   "outputs": [
    {
     "name": "stdout",
     "output_type": "stream",
     "text": [
      "10\n",
      "9\n",
      "8\n",
      "7\n",
      "6\n",
      "5\n",
      "4\n",
      "3\n",
      "2\n",
      "1\n"
     ]
    }
   ],
   "source": [
    "## Escreva e execute seu código aqui\n",
    "for i in range (10,0, -1):\n"
   ]
  },
  {
   "cell_type": "markdown",
   "id": "94b47c36",
   "metadata": {},
   "source": [
    "### Q2.\n",
    "\n",
    "Dado um número inteiro positivo informado pelo usuário, crie um programa em Python que utilize o comando for para calcular e exibir a soma dos números de 1 até o número informado. Ou seja, $1 + 2 + 3 + ... + n$\n",
    "\n",
    "Exemplo de interação:\n",
    "```\n",
    "Digite um número: 5\n",
    "A soma dos números de 1 a 5 é 15\n",
    "```\n"
   ]
  },
  {
   "cell_type": "code",
   "execution_count": 23,
   "id": "45b71596",
   "metadata": {},
   "outputs": [
    {
     "name": "stdin",
     "output_type": "stream",
     "text": [
      "Digite um número:  5\n"
     ]
    },
    {
     "name": "stdout",
     "output_type": "stream",
     "text": [
      "A soma dos números de 1 a 5 é 15\n"
     ]
    }
   ],
   "source": [
    "## Escreva e execute seu código aqui\n",
    "n = int(input(\"Digite um número: \"))\n",
    "\n",
    "soma = 0\n",
    "\n",
    "for i in range (0, n+1):\n",
    "    soma += i\n",
    "\n",
    "print (f\"A soma dos números de 1 a {n} é {soma.\")\n"
   ]
  },
  {
   "cell_type": "markdown",
   "id": "0411d170",
   "metadata": {},
   "source": [
    "### Q3.\n",
    "\n",
    "Escreva um programa que lê 10 valores inteiros positivos do usuário e ao final imprime a média dos valores digitados com duas casas decimais.\n",
    "\n",
    "```\n",
    "Digite 10 números positivos:\n",
    "3\n",
    "2\n",
    "12\n",
    "14\n",
    "20\n",
    "42\n",
    "19\n",
    "0\n",
    "8\n",
    "1\n",
    "A média dos valores digitados é 12.10\n",
    "```"
   ]
  },
  {
   "cell_type": "code",
   "execution_count": 53,
   "id": "3f72f358",
   "metadata": {},
   "outputs": [
    {
     "name": "stdout",
     "output_type": "stream",
     "text": [
      "Digite 10 números positivos: \n"
     ]
    },
    {
     "name": "stdin",
     "output_type": "stream",
     "text": [
      " 3\n",
      " 2\n",
      " 12\n",
      " 14\n",
      " 20\n",
      " 42\n",
      " 19\n",
      " 0\n",
      " 8\n",
      " 1\n"
     ]
    },
    {
     "name": "stdout",
     "output_type": "stream",
     "text": [
      "A média dos valores digitados é 12.10\n"
     ]
    }
   ],
   "source": [
    "## Escreva e execute seu código aqui\n",
    "soma = 0\n",
    "\n",
    "print (\"Digite 10 números positivos: \")\n",
    "for i in range (0,10):\n",
    "    num = int(input())\n",
    "    soma += num\n",
    "\n",
    "#cálculo da média\n",
    "media = soma / 10\n",
    "\n",
    "print (f\"A média dos valores digitados é {media:.2f}\")\n"
   ]
  },
  {
   "cell_type": "markdown",
   "id": "d62e27ff",
   "metadata": {},
   "source": [
    "### Q4.\n",
    "\n",
    "Você vai criar um sistema que registra os resultados dos jogos do Atlético MG ao longo de um campeonato. Seu sistema vai receber os resultados de todos os jogos do Galo, e deve calcular a pontuação do time sabendo que vitórias valem 3 pontos, empates 1 ponto e derrotas 0 pontos.\n",
    "\n",
    "Entrada: <br>\n",
    "A primeira linha de entrada é um inteiro N com a quantidade jogos do galo. Para cada jogo você deve ler 2 inteiros, o primeiro com a quantidade de gols do galo e o segundo com a quantidade de gols do time oponente. \n",
    "\n",
    "Saída: <br>\n",
    "Apresente a soma de vitórias, empates e derrotas do galo, junto com o cálculo da pontuação total.\n",
    "\n",
    "Ex:\n",
    "```\n",
    "Entrada:\n",
    "4\n",
    "2\n",
    "0\n",
    "1\n",
    "1\n",
    "0\n",
    "3\n",
    "1\n",
    "0\n",
    "\n",
    "Saída:\n",
    "Vitórias: 2\n",
    "Empates: 1\n",
    "Derrotas: 1\n",
    "Pontuação: 7\n",
    "\n",
    "```\n",
    "\n",
    "\n"
   ]
  },
  {
   "cell_type": "code",
   "execution_count": 58,
   "id": "d3fdfc2a",
   "metadata": {},
   "outputs": [
    {
     "name": "stdin",
     "output_type": "stream",
     "text": [
      "Digite a quantidade de jogos do galo:  4\n",
      "Digite quantos gols o galo fez no 1º jogo:  2\n",
      "Digite quantos gols que o time adversário fez no 1º jogo:  0\n",
      "Digite quantos gols o galo fez no 2º jogo:  1\n",
      "Digite quantos gols que o time adversário fez no 2º jogo:  1\n",
      "Digite quantos gols o galo fez no 3º jogo:  0\n",
      "Digite quantos gols que o time adversário fez no 3º jogo:  3\n",
      "Digite quantos gols o galo fez no 4º jogo:  1\n",
      "Digite quantos gols que o time adversário fez no 4º jogo:  0\n"
     ]
    },
    {
     "name": "stdout",
     "output_type": "stream",
     "text": [
      "Saída: \n",
      "Vitórias: 2\n",
      "Empates: 1\n",
      "Derrotas: 1\n",
      "Pontuação: 7\n"
     ]
    }
   ],
   "source": [
    "## Escreva e execute seu código aqui\n",
    "\n",
    "n = int(input(\"Digite a quantidade de jogos do galo: \"))\n",
    "\n",
    "vitoria = 0 \n",
    "empate = 0\n",
    "derrota = 0\n",
    "\n",
    "for i in range (1, n+1):\n",
    "    gol_galo = int(input(f\"Digite quantos gols o galo fez no {i}º jogo: \"))\n",
    "    gol_adversario = int(input(f\"Digite quantos gols o time adversário fez no {i}º jogo: \"))\n",
    "    if gol_galo > gol_adversario:\n",
    "        vitoria += 1\n",
    "    elif gol_galo == gol_adversario:\n",
    "        empate += 1\n",
    "    else:\n",
    "        derrota += 1\n",
    "pontuacao = 3 * vitoria + 1 * empate\n",
    "\n",
    "print (\"Saída: \")\n",
    "print (f\"Vitórias: {vitoria}\")\n",
    "print (f\"Empates: {empate}\")\n",
    "print (f\"Derrotas: {derrota}\")\n",
    "print (f\"Pontuação: {pontuacao}\")"
   ]
  },
  {
   "cell_type": "markdown",
   "id": "fc98604d",
   "metadata": {},
   "source": [
    "### Q5.\n",
    "\n",
    "Faça um programa que lê dois inteiros N e M, e imprime na tela um campo de batalha naval. O tabuleiro deve possuir N linhas e M colunas. A primeira linha é composta por um espaço em branco e o cabeçalho das colunas, ou seja, valores de 1 a M. As N linhas seguintes iniciam com o cabeçalho da linha, ou seja, seu número, seguido de M caracteres \"/\" (barra) indicando uma possível posição jogável. \n",
    "\n",
    "```\n",
    "Entrada:\n",
    "5\n",
    "4\n",
    "\n",
    "Saída:\n",
    "  1 2 3 4 \n",
    "1 / / / / \n",
    "2 / / / / \n",
    "3 / / / / \n",
    "4 / / / / \n",
    "5 / / / / \n",
    "```\n",
    "\n",
    "Para esse exercício, precisamos lembrar que o comando print implicitamente adiciona uma quebra de linha ao final da impressão. Podemos interferir no final da impressão adicionando mais uma entrada ao print. No exemplo, finalizamos cada linha com um espaço em branco:\n",
    "```python\n",
    "print(\"Texto qualquer\", end = \" \")\n",
    "```"
   ]
  },
  {
   "cell_type": "code",
   "execution_count": 1,
   "id": "a60ef197",
   "metadata": {},
   "outputs": [
    {
     "name": "stdout",
     "output_type": "stream",
     "text": [
      "Digite o número de linhas (N) e colunas (M):\n"
     ]
    },
    {
     "name": "stdin",
     "output_type": "stream",
     "text": [
      " 5\n",
      " 4\n"
     ]
    },
    {
     "name": "stdout",
     "output_type": "stream",
     "text": [
      "  1 2 3 4\n",
      "1  / / / /\n",
      "2  / / / /\n",
      "3  / / / /\n",
      "4  / / / /\n",
      "5  / / / /\n"
     ]
    }
   ],
   "source": [
    "## Escreva e execute seu código aqui\n",
    "def criar_tabuleiro(N, M):\n",
    "    tabuleiro = []\n",
    "\n",
    "    # Cabeçalho das colunas\n",
    "    linha_cabecalho = \"  \" + \" \".join(str(i) for i in range(1, M + 1))\n",
    "    tabuleiro.append(linha_cabecalho)\n",
    "\n",
    "    # Linhas do tabuleiro\n",
    "    for i in range(1, N + 1):\n",
    "        linha = str(i) + \" \" + \" /\" * M\n",
    "        tabuleiro.append(linha)\n",
    "\n",
    "    return tabuleiro\n",
    "\n",
    "def imprimir_tabuleiro(tabuleiro):\n",
    "    for linha in tabuleiro:\n",
    "        print(linha)\n",
    "\n",
    "def main():\n",
    "    print(\"Digite o número de linhas (N) e colunas (M):\")\n",
    "    N = int(input())\n",
    "    M = int(input())\n",
    "\n",
    "    tabuleiro = criar_tabuleiro(N, M)\n",
    "    imprimir_tabuleiro(tabuleiro)\n",
    "\n",
    "if __name__ == \"__main__\":\n",
    "    main()\n"
   ]
  },
  {
   "cell_type": "markdown",
   "id": "4654dc0b",
   "metadata": {},
   "source": [
    "---\n",
    "## Break e Continue"
   ]
  },
  {
   "cell_type": "markdown",
   "id": "24fe9d85",
   "metadata": {},
   "source": [
    "### Q6.\n",
    "\n",
    "Escreva um programa que lê uma quantidade indefinida de valores e informa o maior e o menor valor digitados. A leitura é encerrada quando o usuário digitar o valor 0 (zero).\n",
    "\n",
    "```\n",
    "Entrada:\n",
    "12\n",
    "-1\n",
    "29\n",
    "11\n",
    "-5\n",
    "0\n",
    "\n",
    "Saída:\n",
    "Maior: 29\n",
    "Menor: -5\n",
    "```"
   ]
  },
  {
   "cell_type": "code",
   "execution_count": 2,
   "id": "ee1c466a",
   "metadata": {},
   "outputs": [
    {
     "name": "stdin",
     "output_type": "stream",
     "text": [
      "Digite um valor (para sair digite 0) 12\n",
      "Digite um valor (para sair digite 0) -1\n",
      "Digite um valor (para sair digite 0) 29\n",
      "Digite um valor (para sair digite 0) 11\n",
      "Digite um valor (para sair digite 0) -5\n",
      "Digite um valor (para sair digite 0) 0\n"
     ]
    },
    {
     "name": "stdout",
     "output_type": "stream",
     "text": [
      "O maior valor digitado foi 29\n",
      "O menor valor digitado foi -5\n"
     ]
    }
   ],
   "source": [
    "## Escreva e execute seu código aqui\n",
    "\n",
    "maior = None\n",
    "menor = None\n",
    "\n",
    "while True:\n",
    "        \n",
    "    valor = int(input(\"Digite um valor (para sair digite 0)\"))\n",
    "    if valor == 0:\n",
    "        break\n",
    "    if maior is None or valor > maior:\n",
    "            maior = valor\n",
    "    if menor is None or valor < menor:\n",
    "        menor = valor\n",
    "\n",
    "if maior is not None and menor is not None:\n",
    "    print(f\"O maior valor digitado foi {maior}\")\n",
    "    print (f\"O menor valor digitado foi {menor}\")\n",
    "        \n"
   ]
  },
  {
   "cell_type": "markdown",
   "id": "30d486f7",
   "metadata": {},
   "source": [
    "### Q7.\n",
    "\n",
    "Escreva um programa que lê uma quantidade indefinida de valores e informa o **produto** dos valores positivos digitados. A leitura é encerrada quando o usuário digitar o valor 0 (zero).\n",
    "\n",
    "```\n",
    "Entrada:\n",
    "2\n",
    "-1\n",
    "1\n",
    "3\n",
    "-5\n",
    "0\n",
    "\n",
    "Saída:\n",
    "Produto: 6\n",
    "```"
   ]
  },
  {
   "cell_type": "code",
   "execution_count": 13,
   "id": "2f1ac324",
   "metadata": {},
   "outputs": [
    {
     "name": "stdin",
     "output_type": "stream",
     "text": [
      "Digite um número (para sair digite 0) 2\n",
      "Digite um número (para sair digite 0) -1\n",
      "Digite um número (para sair digite 0) 1\n",
      "Digite um número (para sair digite 0) 3\n",
      "Digite um número (para sair digite 0) -5\n",
      "Digite um número (para sair digite 0) 0\n"
     ]
    },
    {
     "name": "stdout",
     "output_type": "stream",
     "text": [
      "O produto dos números pares digitados é: 6\n"
     ]
    }
   ],
   "source": [
    "## Escreva e execute seu código aqui\n",
    "\n",
    "def main ():\n",
    "\n",
    "    mult = 1\n",
    "    num = None\n",
    "\n",
    "    while True:\n",
    "        num = int(input(\"Digite um número (para sair digite 0)\"))\n",
    "        if num == 0:\n",
    "            break\n",
    "        if num > 0:\n",
    "            mult *= num\n",
    "\n",
    "    if mult is not None and num is not None:\n",
    "        print(f\"O produto dos números pares digitados é: {mult}\")\n",
    "\n",
    "if __name__ == \"__main__\":\n",
    "    main ()\n",
    "        "
   ]
  },
  {
   "cell_type": "markdown",
   "id": "e932f3cf",
   "metadata": {},
   "source": [
    "### Q8.\n",
    "\n",
    "Vamos fazer uma calculadora que aceita expressões aritméticas de qualquer tamanho até que o usuário digite a palavra \"Fim\". Sua calculadora executa apenas as operações \"+\", \"-\".\n",
    "\n",
    "```\n",
    "Entrada:\n",
    "5\n",
    "+\n",
    "8\n",
    "-\n",
    "3\n",
    "+\n",
    "2\n",
    "Fim\n",
    "\n",
    "Saída:\n",
    "12\n",
    "```"
   ]
  },
  {
   "cell_type": "code",
   "execution_count": 19,
   "id": "e835d870",
   "metadata": {},
   "outputs": [
    {
     "name": "stdout",
     "output_type": "stream",
     "text": [
      "Bem-vindo à calculadora! Digite 'Fim' para encerrar.\n"
     ]
    },
    {
     "name": "stdin",
     "output_type": "stream",
     "text": [
      "Digite um número ou operador ('+', '-'), ou 'Fim' para encerrar:  5\n"
     ]
    },
    {
     "name": "stdout",
     "output_type": "stream",
     "text": [
      "Total atual: 5\n"
     ]
    },
    {
     "name": "stdin",
     "output_type": "stream",
     "text": [
      "Digite um número ou operador ('+', '-'), ou 'Fim' para encerrar:  +\n"
     ]
    },
    {
     "name": "stdout",
     "output_type": "stream",
     "text": [
      "Total atual: 5\n"
     ]
    },
    {
     "name": "stdin",
     "output_type": "stream",
     "text": [
      "Digite um número ou operador ('+', '-'), ou 'Fim' para encerrar:  8\n"
     ]
    },
    {
     "name": "stdout",
     "output_type": "stream",
     "text": [
      "Total atual: 13\n"
     ]
    },
    {
     "name": "stdin",
     "output_type": "stream",
     "text": [
      "Digite um número ou operador ('+', '-'), ou 'Fim' para encerrar:  -\n"
     ]
    },
    {
     "name": "stdout",
     "output_type": "stream",
     "text": [
      "Total atual: 13\n"
     ]
    },
    {
     "name": "stdin",
     "output_type": "stream",
     "text": [
      "Digite um número ou operador ('+', '-'), ou 'Fim' para encerrar:  3\n"
     ]
    },
    {
     "name": "stdout",
     "output_type": "stream",
     "text": [
      "Total atual: 10\n"
     ]
    },
    {
     "name": "stdin",
     "output_type": "stream",
     "text": [
      "Digite um número ou operador ('+', '-'), ou 'Fim' para encerrar:  +\n"
     ]
    },
    {
     "name": "stdout",
     "output_type": "stream",
     "text": [
      "Total atual: 10\n"
     ]
    },
    {
     "name": "stdin",
     "output_type": "stream",
     "text": [
      "Digite um número ou operador ('+', '-'), ou 'Fim' para encerrar:  2\n"
     ]
    },
    {
     "name": "stdout",
     "output_type": "stream",
     "text": [
      "Total atual: 12\n"
     ]
    },
    {
     "name": "stdin",
     "output_type": "stream",
     "text": [
      "Digite um número ou operador ('+', '-'), ou 'Fim' para encerrar:  fim\n"
     ]
    },
    {
     "name": "stdout",
     "output_type": "stream",
     "text": [
      "Resultado final: 12\n"
     ]
    }
   ],
   "source": [
    "## Escreva e execute seu código aqui\n",
    "\n",
    "def main():\n",
    "    print(\"Bem-vindo à calculadora! Digite 'Fim' para encerrar.\")\n",
    "\n",
    "    total = 0\n",
    "    operador = '+'\n",
    "    while True:\n",
    "        entrada = input(\"Digite um número ou operador ('+', '-'), ou 'Fim' para encerrar: \")\n",
    "\n",
    "        if entrada.lower() == \"fim\":\n",
    "            break\n",
    "\n",
    "        if entrada in ['+', '-']:\n",
    "            operador = entrada\n",
    "        else:\n",
    "            try:\n",
    "                numero = int(entrada)\n",
    "                if operador == '+':\n",
    "                    total += numero\n",
    "                elif operador == '-':\n",
    "                    total -= numero\n",
    "            except ValueError:\n",
    "                print(\"Entrada inválida. Por favor, digite um número ou um operador válido.\")\n",
    "\n",
    "        print(f\"Total atual: {total}\")\n",
    "\n",
    "    print(f\"Resultado final: {total}\")\n",
    "\n",
    "if __name__ == \"__main__\":\n",
    "    main()"
   ]
  },
  {
   "cell_type": "code",
   "execution_count": null,
   "id": "b020dfeb-2e41-4160-a4a7-5020b48981ce",
   "metadata": {},
   "outputs": [],
   "source": []
  }
 ],
 "metadata": {
  "kernelspec": {
   "display_name": "Python 3 (ipykernel)",
   "language": "python",
   "name": "python3"
  },
  "language_info": {
   "codemirror_mode": {
    "name": "ipython",
    "version": 3
   },
   "file_extension": ".py",
   "mimetype": "text/x-python",
   "name": "python",
   "nbconvert_exporter": "python",
   "pygments_lexer": "ipython3",
   "version": "3.12.1"
  }
 },
 "nbformat": 4,
 "nbformat_minor": 5
}
