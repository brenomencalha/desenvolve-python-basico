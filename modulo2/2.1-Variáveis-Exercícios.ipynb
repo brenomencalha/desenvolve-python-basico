{
 "cells": [
  {
   "cell_type": "markdown",
   "id": "a9d28135",
   "metadata": {},
   "source": [
    "# Módulo 2\n",
    "## 2.1 Variáveis\n",
    "\n",
    "### Q1. \n",
    "Selecione todos os itens a seguir que contém nomes válidos de variáveis. Lembre-se que alguns nomes com estrutura válida são palavras reservadas da linguagem e portanto não podem nomear variáveis.\n",
    "\n",
    "    a) nome_completo \n",
    "    b) quantidade@produtos\t\n",
    "    c) idade\t\n",
    "    d) soma idades \n",
    "    e) MediaNotas\n",
    "    f) _tipo\n",
    "    g) 2total\n",
    "    h) lambda"
   ]
  },
  {
   "cell_type": "code",
   "execution_count": 1,
   "id": "23ab7106",
   "metadata": {},
   "outputs": [
    {
     "name": "stdout",
     "output_type": "stream",
     "text": [
      "a, c, e, f, h\n"
     ]
    }
   ],
   "source": [
    "# Preencha o print com as alternativas corretas\n",
    "# separadas por espaços em branco.\n",
    "# Ex: print(\"a b c\")\n",
    "print(\"a, c, e, f, h\")"
   ]
  },
  {
   "cell_type": "markdown",
   "id": "f56d2b28",
   "metadata": {},
   "source": [
    "---\n",
    "### Q2. \n",
    "Dados os scripts a seguir, faça: \n",
    "- Para os scripts corretos escreva o resultado impresso ao final da execução\n",
    "- Para os incorretos descreva todos os erros identificados apontando a linha onde cada erro acontece.\n"
   ]
  },
  {
   "cell_type": "markdown",
   "id": "a2f2461b",
   "metadata": {},
   "source": [
    "```python\n",
    "# Script 1\n",
    "x = 10\n",
    "y = x + 2\n",
    "print(y - 5)\n",
    "```"
   ]
  },
  {
   "cell_type": "code",
   "execution_count": 2,
   "id": "4371ac7b",
   "metadata": {},
   "outputs": [
    {
     "name": "stdout",
     "output_type": "stream",
     "text": [
      "7\n"
     ]
    }
   ],
   "source": [
    "# preencha o print com sua resposta\n",
    "print(\"7\")"
   ]
  },
  {
   "cell_type": "markdown",
   "id": "b38baa9c",
   "metadata": {},
   "source": [
    "```python\n",
    "# Script 2\n",
    "soma = n1 + n2\n",
    "print(soma) \n",
    "```"
   ]
  },
  {
   "cell_type": "code",
   "execution_count": 3,
   "id": "82b5064b",
   "metadata": {},
   "outputs": [
    {
     "name": "stdout",
     "output_type": "stream",
     "text": [
      "As variáveis n1 e n2 não foram definidas\n"
     ]
    }
   ],
   "source": [
    "# preencha o print com sua resposta\n",
    "print(\"As variáveis n1 e n2 não foram definidas\")"
   ]
  },
  {
   "cell_type": "markdown",
   "id": "c2f3ab7a",
   "metadata": {},
   "source": [
    "```python\n",
    "# Script 3\n",
    "a = 10\n",
    "a = a + 1\n",
    "print(a)\n",
    "```"
   ]
  },
  {
   "cell_type": "code",
   "execution_count": 4,
   "id": "7b9db0c7",
   "metadata": {},
   "outputs": [
    {
     "name": "stdout",
     "output_type": "stream",
     "text": [
      "A variável 'a' foi repetida linha 2. O correto seria a definição de uma variável com o nome diferente de 'a', por exemplo b para a sintaxe se tornar válida. \n"
     ]
    }
   ],
   "source": [
    "# preencha o print com sua resposta\n",
    "print(\"A variável 'a' foi repetida linha 2. O correto seria a definição de uma variável com o nome diferente de 'a', por exemplo b para a sintaxe se tornar válida. \")"
   ]
  },
  {
   "cell_type": "markdown",
   "id": "dd40d2c9",
   "metadata": {},
   "source": [
    "```python\n",
    "# Script 4\n",
    "saldo da conta = 1500\n",
    "0.1 = juros\n",
    "print(saldo da conta * juros)\n",
    "```"
   ]
  },
  {
   "cell_type": "code",
   "execution_count": 5,
   "id": "2dec64ac",
   "metadata": {},
   "outputs": [
    {
     "name": "stdout",
     "output_type": "stream",
     "text": [
      "A variável não pode assumir um valor numérico. Para que o script se torne válido podemos nomear a variável como 'juros' e atribuir o valor 0.1 a ela. \n"
     ]
    }
   ],
   "source": [
    "# preencha o print com sua resposta\n",
    "print(\"A variável não pode assumir um valor numérico. Para que o script se torne válido podemos nomear a variável como 'juros' e atribuir o valor 0.1 a ela. \")"
   ]
  },
  {
   "cell_type": "markdown",
   "id": "9ba1f2a8",
   "metadata": {},
   "source": [
    "---\n",
    "### Q3.\n",
    "Declare três variáveis, `num1`, `num2` e `num3`, com valores inteiros numéricos de sua escolha. Calcule e imprima a média desses três números. Utilize a fórmula: `(num1 + num2 + num3) / 3`."
   ]
  },
  {
   "cell_type": "code",
   "execution_count": 6,
   "id": "e1963351",
   "metadata": {},
   "outputs": [
    {
     "name": "stdout",
     "output_type": "stream",
     "text": [
      "12.333333333333334\n"
     ]
    }
   ],
   "source": [
    "## Escreva e execute seu código aqui\n",
    "\n",
    "num1 = 10\n",
    "num2 = 15\n",
    "num3 = 12\n",
    "\n",
    "media = (num1 + num2 + num3) / 3\n",
    "\n",
    "print (media)\n"
   ]
  },
  {
   "cell_type": "markdown",
   "id": "7940ba20",
   "metadata": {},
   "source": [
    "--- \n",
    "### Q4.\n",
    "Escreva um script python que:\n",
    "- Armazene em uma variável uma velocidade de 90 km/h\n",
    "- Calcule e armazene o equivalente em m/s\n",
    "    - Divida o valor original por 3.6 para obter o resultado em m/s. Em python a sintaxe da divisão e atribuição é c = a / b \n",
    "- Imprima na tela a velocidade o resultado m/s\n"
   ]
  },
  {
   "cell_type": "code",
   "execution_count": 7,
   "id": "dd4fe7ae",
   "metadata": {},
   "outputs": [
    {
     "name": "stdout",
     "output_type": "stream",
     "text": [
      "25.0 m/s\n"
     ]
    }
   ],
   "source": [
    "## Escreva e execute seu código aqui\n",
    "\n",
    "velocidade = 90\n",
    "\n",
    "conv = velocidade/3.6\n",
    "\n",
    "print (conv, \"m/s\")\n"
   ]
  },
  {
   "cell_type": "markdown",
   "id": "cc714a42",
   "metadata": {},
   "source": [
    "---\n",
    "### Q5.\n",
    "Escreva um script python que:\n",
    "- Armazene o seu nome em uma variável\n",
    "    - Dica: para armazenar textos em variáveis basta colocar a palavra desejada entre aspas, ex: \"Camila\", à direita do operador de atribuição.\n",
    "- Imprima o texto \"Meu nome é:\"\n",
    "- Imprima a variável com seu nome\n"
   ]
  },
  {
   "cell_type": "code",
   "execution_count": 8,
   "id": "10a6a794",
   "metadata": {},
   "outputs": [
    {
     "name": "stdout",
     "output_type": "stream",
     "text": [
      "O meu nome é Breno Mencalha\n"
     ]
    }
   ],
   "source": [
    "## Escreva e execute seu código aqui\n",
    "\n",
    "nome = \"Breno Mencalha\"\n",
    "\n",
    "print (\"O meu nome é\", nome)\n"
   ]
  }
 ],
 "metadata": {
  "kernelspec": {
   "display_name": "Python 3 (ipykernel)",
   "language": "python",
   "name": "python3"
  },
  "language_info": {
   "codemirror_mode": {
    "name": "ipython",
    "version": 3
   },
   "file_extension": ".py",
   "mimetype": "text/x-python",
   "name": "python",
   "nbconvert_exporter": "python",
   "pygments_lexer": "ipython3",
   "version": "3.12.1"
  }
 },
 "nbformat": 4,
 "nbformat_minor": 5
}
