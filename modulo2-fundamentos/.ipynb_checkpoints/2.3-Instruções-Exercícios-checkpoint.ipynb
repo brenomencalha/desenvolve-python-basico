{
 "cells": [
  {
   "cell_type": "markdown",
   "metadata": {
    "id": "1pCTdOHonv5f"
   },
   "source": [
    "# Módulo 2\n",
    "\n",
    "## 2.3 Instruções e Expressões\n",
    "\n",
    "### Q1\n",
    "\n",
    "Faça um programa que armazene o valor de 20 reais de salário por hora de um trabalhador, e o número de 40 horas trabalhadas na semana. Com essas informações, calcule e imprima:\n",
    "- Salário semanal bruto\n",
    "- Valor descontado por semana INSS (10% do bruto)\n",
    "- Valor descontado por semana pelo sindicato (5% do bruto)\n",
    "- Salário semanal líquido (Bruto - Descontos)"
   ]
  },
  {
   "cell_type": "code",
   "execution_count": 14,
   "metadata": {
    "id": "hVbX0I97nj6M"
   },
   "outputs": [
    {
     "name": "stdout",
     "output_type": "stream",
     "text": [
      "O salário bruto é de R$ 800.00\n",
      "O desconto do INSS é de R$ 80.00\n",
      "O desconto do sindicato é de R$ 40.00\n",
      "O salário semanal líquido é de R$ 680.00\n"
     ]
    }
   ],
   "source": [
    "## Escreva e execute seu código aqui\n",
    "\n",
    "salario_por_hora = 20\n",
    "horas_trabalhadas = 40\n",
    "\n",
    "salario_bruto = salario_por_hora * horas_trabalhadas\n",
    "print (f'O salário bruto é de R$ {salario_bruto:.2f}')\n",
    "\n",
    "desconto_INSS = salario_bruto * 0.1\n",
    "print (f'O desconto do INSS é de R$ {desconto_INSS:.2f}')\n",
    "\n",
    "desconto_sindicato = salario_bruto * 0.05\n",
    "print (f'O desconto do sindicato é de R$ {desconto_sindicato:.2f}')\n",
    "\n",
    "salario_semanal = salario_bruto - desconto_INSS - desconto_sindicato\n",
    "print (f'O salário semanal líquido é de R$ {salario_semanal:.2f}')"
   ]
  },
  {
   "cell_type": "markdown",
   "metadata": {
    "id": "pIxKX9J2oGZ1"
   },
   "source": [
    "### Q2\n",
    "\n",
    "Altere o programa anterior para a partir dos valores de horas trabalhadas por semana e salário por hora, calcular **em somente duas instruções**:\n",
    "- Salário semanal bruto\n",
    "- Salário semanal líquido com todos os descontos. Para a segunda instrução, realize todos os cálculos aritméticos em uma expressão composta.\n"
   ]
  },
  {
   "cell_type": "code",
   "execution_count": 17,
   "metadata": {
    "id": "pAHw9Xf9oGoi"
   },
   "outputs": [
    {
     "name": "stdout",
     "output_type": "stream",
     "text": [
      "Salário bruto é igual R$ 800.00\n",
      "Salário líquido é igual R$ 680.00\n"
     ]
    }
   ],
   "source": [
    "## Escreva e execute seu código aqui\n",
    "horas_trabalhadas = 40\n",
    "salario_hora = 20\n",
    "\n",
    "salario_bruto = horas_trabalhadas * salario_hora\n",
    "salario_liquido = salario_bruto - salario_bruto * 0.1 - salario_bruto * 0.05\n",
    "\n",
    "print (f'Salário bruto é igual R$ {salario_bruto:.2f}')\n",
    "print (f'Salário líquido é igual R$ {salario_liquido:.2f}')"
   ]
  },
  {
   "cell_type": "markdown",
   "metadata": {
    "id": "m8tlHRuWpBOB"
   },
   "source": [
    "### Q3\n",
    "\n",
    "Você está desenvolvendo um software de conversão de moeda e precisa calcular o valor equivalente em yuan chinês a partir de uma quantia em real. A taxa de câmbio é de 0.69 BRL (real) para 1 CNY (yuan). Escreva um programa que define em uma variável uma quantia em reais (BRL) e calcula o valor equivalente em yuan (CNY). Imprima o resultado."
   ]
  },
  {
   "cell_type": "code",
   "execution_count": 22,
   "metadata": {
    "id": "2bPw7uF6oeL9"
   },
   "outputs": [
    {
     "name": "stdout",
     "output_type": "stream",
     "text": [
      "Um YUAN equivale a R$ 1.45\n",
      "O valor de R$ 200,00 equivale a 289.86 YUAN\n"
     ]
    }
   ],
   "source": [
    "## Escreva e execute seu código aqui\n",
    "\n",
    "real = 0.69\n",
    "yuan = 1\n",
    "\n",
    "conversao = yuan/real\n",
    "print (f'Um YUAN equivale a R$ {conversao:.2f}')\n",
    "\n",
    "BRL = 200\n",
    "\n",
    "CNY = BRL * conversao\n",
    "print (f'O valor de R$ 200,00 equivale a {CNY:.2f} YUAN')\n",
    "\n"
   ]
  },
  {
   "cell_type": "markdown",
   "metadata": {
    "id": "-Na3ltDCp74A"
   },
   "source": [
    "### Q4\n",
    "\n",
    "Você é um treinador de corrida e deseja calcular a velocidade média que um atleta precisa manter para completar a Maratona Internacional de São Silvestre, que tem uma distância total de 42.195 km. A fórmula para calcular a velocidade média ($v\\_media$) é dada por $v\\_media = \\frac{distancia}{tempo}$ . Escreva um programa em Python para calcular a velocidade média necessária para completar a maratona em 3 horas.\n",
    "\n",
    "**Calcule e imprima o resultado em metros/segundo**, ou seja, converta a distância de quilômetros para metros ($metro = \\frac{km}{1000}$) e a velocidade de horas para segundos $(segundo = \\frac{hora}{3600})$."
   ]
  },
  {
   "cell_type": "code",
   "execution_count": 2,
   "metadata": {
    "id": "Bn6l8kcSrE4L"
   },
   "outputs": [
    {
     "name": "stdout",
     "output_type": "stream",
     "text": [
      "Distância da Maratona em metros 42195.0\n",
      "3 horas equivalem a 10800 segundos\n",
      "O atleta deverá manter a velocidade média de 3.91 m/s\n"
     ]
    }
   ],
   "source": [
    "## Escreva e execute seu código aqui\n",
    "\n",
    "metro = 42.195*1000\n",
    "print ('Distância da Maratona em metros',metro)\n",
    "\n",
    "segundo = 3*3600\n",
    "print ('3 horas equivalem a',segundo,'segundos')\n",
    "\n",
    "v_media = metro/segundo\n",
    "\n",
    "print (f'O atleta deverá manter a velocidade média de {v_media:.2f} m/s')"
   ]
  },
  {
   "cell_type": "code",
   "execution_count": null,
   "metadata": {},
   "outputs": [],
   "source": []
  }
 ],
 "metadata": {
  "colab": {
   "provenance": []
  },
  "kernelspec": {
   "display_name": "Python 3 (ipykernel)",
   "language": "python",
   "name": "python3"
  },
  "language_info": {
   "codemirror_mode": {
    "name": "ipython",
    "version": 3
   },
   "file_extension": ".py",
   "mimetype": "text/x-python",
   "name": "python",
   "nbconvert_exporter": "python",
   "pygments_lexer": "ipython3",
   "version": "3.12.1"
  }
 },
 "nbformat": 4,
 "nbformat_minor": 4
}
