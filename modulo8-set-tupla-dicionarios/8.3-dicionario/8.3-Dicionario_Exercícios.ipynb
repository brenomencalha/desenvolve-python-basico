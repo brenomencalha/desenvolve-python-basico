{
 "cells": [
  {
   "cell_type": "markdown",
   "id": "0d5035b5",
   "metadata": {},
   "source": [
    "# Dicionários\n",
    "\n",
    "## Aula 8.3"
   ]
  },
  {
   "cell_type": "markdown",
   "id": "0bdece85",
   "metadata": {},
   "source": [
    "### Q1. \n",
    "\n",
    "Escreva uma função em Python chamada ```contagem_caracteres``` que recebe uma string como parâmetro e retorna um dicionário onde as chaves são os caracteres presentes na string e os valores são a contagem de cada caractere.\n"
   ]
  },
  {
   "cell_type": "code",
   "execution_count": 1,
   "id": "09a9845d",
   "metadata": {},
   "outputs": [],
   "source": [
    "# Implemente aqui a função contagem_caracteres\n",
    "def contagem_caracteres(frase):\n",
    "    contagem = {}\n",
    "    for char in frase:\n",
    "        if char in contagem:\n",
    "            contagem[char] +=1\n",
    "        else:\n",
    "            contagem[char] = 1\n",
    "    return contagem"
   ]
  },
  {
   "cell_type": "code",
   "execution_count": 2,
   "id": "0a258eba",
   "metadata": {},
   "outputs": [
    {
     "name": "stdout",
     "output_type": "stream",
     "text": [
      "{'p': 2, 'y': 1, 't': 1, 'h': 1, 'o': 2, 'n': 2, ' ': 1, 'r': 2, 'g': 2, 'a': 1, 'm': 2, 'i': 1}\n"
     ]
    }
   ],
   "source": [
    "# Exemplo de uso:\n",
    "frase = \"python programming\"\n",
    "resultado = contagem_caracteres(frase)\n",
    "print(resultado)"
   ]
  },
  {
   "cell_type": "markdown",
   "id": "649a5082",
   "metadata": {},
   "source": [
    "### Q2. \n",
    "\n",
    "Baixe o arquivo contendo o roteiro do filme brasileiro \"Estômago\" e salve em seu computador com o nome \"estomago.txt\".\n",
    "\n",
    "https://aplauso.imprensaoficial.com.br/edicoes/12.0.813.502/12.0.813.502.txt\n",
    "\n",
    "- Escreva um script python que abre o arquivo de texto e cria um dicionário contando a quantidade de vezes que cada palavra aparece no texto.\n",
    "- Em seguida ordene o dicionário de forma decrescente pelos valores. Dessa maneira ele irá apresentar as palavras mais frequentes no início.\n",
    "- Apresente na tela o dicionário ordenado\n"
   ]
  },
  {
   "cell_type": "code",
   "execution_count": 3,
   "id": "47cb0573",
   "metadata": {},
   "outputs": [
    {
     "name": "stdout",
     "output_type": "stream",
     "text": [
      "center: 4\n",
      "html: 2\n",
      "head: 2\n",
      "title: 2\n",
      "404: 2\n",
      "not: 2\n",
      "found: 2\n",
      "body: 2\n",
      "h1: 2\n",
      "hr: 1\n",
      "nginx: 1\n"
     ]
    }
   ],
   "source": [
    "# Implemente aqui sua solução\n",
    "import requests\n",
    "from collections import Counter\n",
    "import re\n",
    "\n",
    "# baixar o roteiro do filme\n",
    "url = 'https://aplauso.imprensaoficial.com.br/edicoes/12.0.813.502/12.0.813.502.txt'\n",
    "responde = requests.get(url)\n",
    "\n",
    "## Salvar o arquivo localmente\n",
    "with open ('estomago.txt', 'wb') as file:\n",
    "    file.write(responde.content)\n",
    "\n",
    "### ler o arquivo e contar a frequência de cada palavra\n",
    "with open('estomago.txt', 'r',encoding='latin-1') as file:\n",
    "    text = file.read()\n",
    "\n",
    "#### remover pontuação e converter para minúscula:\n",
    "words = re.findall(r'\\b\\w+\\b', text.lower())\n",
    "\n",
    "### contar a frequência das palavras\n",
    "word_count = Counter(words)\n",
    "\n",
    "## ordenar de forma descrescente\n",
    "sorted_word_count = dict(sorted(word_count.items(), key=lambda item: item[1], reverse=True))\n",
    "\n",
    "# exibir a ordenação\n",
    "for word, count in sorted_word_count.items():\n",
    "    print (f'{word}: {count}')\n",
    "                        \n",
    "\n"
   ]
  },
  {
   "cell_type": "markdown",
   "id": "bb62d219",
   "metadata": {},
   "source": [
    "### Q3. \n",
    "\n",
    "Crie uma função chamada ```mesclar_dicionarios``` que recebe dois dicionários como parâmetros e retorna um novo dicionário contendo a fusão dos dois. Se houver chaves comuns, o maior valor deve prevalecer."
   ]
  },
  {
   "cell_type": "code",
   "execution_count": 4,
   "id": "f4363612",
   "metadata": {},
   "outputs": [],
   "source": [
    "# Implemente aqui a função mesclar_dicionarios\n",
    "def mesclar_dicionarios(dicionario1, dicionario2):\n",
    "    resultado = dict(dicionario1)\n",
    "\n",
    "    for chave, valor in dicionario2.items():\n",
    "        if chave in resultado:\n",
    "            resultado[chave] = max(resultado[chave],valor)\n",
    "        else:\n",
    "            resultado[chave] = valor\n",
    "    return resultado"
   ]
  },
  {
   "cell_type": "code",
   "execution_count": 5,
   "id": "add41556",
   "metadata": {},
   "outputs": [
    {
     "name": "stdout",
     "output_type": "stream",
     "text": [
      "{'a': 1, 'b': 4, 'c': 3, 'd': 5}\n"
     ]
    }
   ],
   "source": [
    "# Exemplo de uso:\n",
    "dicionario1 = {'a': 1, 'b': 2, 'c': 3}\n",
    "dicionario2 = {'b': 4, 'd': 5}\n",
    "resultado = mesclar_dicionarios(dicionario1, dicionario2)\n",
    "print(resultado)\n",
    "# Saída esperada: {'a': 1, 'b': 4, 'c': 3, 'd': 5}"
   ]
  },
  {
   "cell_type": "markdown",
   "id": "8710b1a7",
   "metadata": {},
   "source": [
    "### Q4.\n",
    "\n",
    "Desenvolva uma função em Python chamada ```filtrar_dicionario``` que recebe um dicionário e uma lista de chaves como parâmetros e retorna um novo dicionário contendo apenas as chaves que estão presentes na lista."
   ]
  },
  {
   "cell_type": "code",
   "execution_count": 13,
   "id": "0b7ee921",
   "metadata": {},
   "outputs": [],
   "source": [
    "# Implemente aqui a função filtrar_dicionario\n",
    "def filtrar_dicionario (dados, chaves_filtradas):\n",
    "    dicionario_filtrado = {}\n",
    "    for chave in chaves_filtradas:\n",
    "        if chave in dados:\n",
    "            dicionario_filtrado[chave] = dados[chave]\n",
    "    return dicionario_filtrado"
   ]
  },
  {
   "cell_type": "code",
   "execution_count": 14,
   "id": "ebc131f6",
   "metadata": {},
   "outputs": [
    {
     "name": "stdout",
     "output_type": "stream",
     "text": [
      "{'a': 1, 'c': 3, 'e': 5}\n"
     ]
    }
   ],
   "source": [
    "# Exemplo de uso:\n",
    "dados = {'a': 1, 'b': 2, 'c': 3, 'd': 4, 'e': 5}\n",
    "chaves_filtradas = ['a', 'c', 'e']\n",
    "resultado = filtrar_dicionario(dados, chaves_filtradas)\n",
    "print(resultado)\n",
    "# Saída esperada: {'a': 1, 'c': 3, 'e': 5}"
   ]
  },
  {
   "cell_type": "markdown",
   "id": "3203c51e",
   "metadata": {},
   "source": [
    "### Q5.\n",
    "\n",
    "Você está responsável por analisar os resultados de uma votação. Cada voto é representado por um dicionário com o nome do candidato e a quantidade de votos que recebeu em uma determinada sessão eleitoral. Escreva uma função chamada ```resultado_votacao``` que recebe uma lista de dicionários de votos e retorna um dicionário onde as chaves são os nomes dos candidatos, e os valores são tuplas ```(total, percentual)``` com o total de votos recebidos por cada candidato e o percentual em relação à soma total de votos em todos os candidatos. "
   ]
  },
  {
   "cell_type": "code",
   "execution_count": 25,
   "id": "2c856eee",
   "metadata": {},
   "outputs": [],
   "source": [
    "# Implemente aqui a função resultado_votacao\n",
    "def resultado_votacao(lista_votos):\n",
    "    resultados = {}\n",
    "\n",
    "    total_votos = 0\n",
    "    for voto in lista_votos:\n",
    "        for candidato, votos in voto.items():\n",
    "            total_votos += votos\n",
    "            if candidato in resultados:\n",
    "                resultados[candidato] += votos\n",
    "            else:\n",
    "                resultados[candidato] = votos\n",
    "    for candidato in resultados:\n",
    "        total_candidato = resultados[candidato]\n",
    "        percentual = round((total_candidato / total_votos) * 100,2)\n",
    "        resultados[candidato] = (total_candidato, percentual)\n",
    "    \n",
    "    return resultados\n",
    "            "
   ]
  },
  {
   "cell_type": "code",
   "execution_count": 26,
   "id": "ff2044de",
   "metadata": {},
   "outputs": [
    {
     "name": "stdout",
     "output_type": "stream",
     "text": [
      "{'candidato_A': (360, 40.31), 'candidato_B': (258, 28.89), 'candidato_C': (275, 30.8)}\n"
     ]
    }
   ],
   "source": [
    "# Exemplo de uso:\n",
    "lista_votos = [\n",
    "    {'candidato_A': 120, 'candidato_B': 85, 'candidato_C': 90},\n",
    "    {'candidato_A': 110, 'candidato_B': 95, 'candidato_C': 80},\n",
    "    {'candidato_A': 130, 'candidato_B': 78, 'candidato_C': 105},\n",
    "]\n",
    "resultado = resultado_votacao(lista_votos)\n",
    "print(resultado)  # Saída esperada: {'candidato_A': (360, 40.31), 'candidato_B': (258, 28.89), \n",
    "                                ###  'candidato_C': (275, 30.79)}"
   ]
  }
 ],
 "metadata": {
  "kernelspec": {
   "display_name": "Python 3 (ipykernel)",
   "language": "python",
   "name": "python3"
  },
  "language_info": {
   "codemirror_mode": {
    "name": "ipython",
    "version": 3
   },
   "file_extension": ".py",
   "mimetype": "text/x-python",
   "name": "python",
   "nbconvert_exporter": "python",
   "pygments_lexer": "ipython3",
   "version": "3.12.1"
  }
 },
 "nbformat": 4,
 "nbformat_minor": 5
}
